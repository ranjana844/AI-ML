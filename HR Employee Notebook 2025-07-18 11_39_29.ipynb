{
 "cells": [
  {
   "cell_type": "code",
   "execution_count": 0,
   "metadata": {
    "application/vnd.databricks.v1+cell": {
     "cellMetadata": {
      "byteLimit": 2048000,
      "rowLimit": 10000
     },
     "inputWidgets": {},
     "nuid": "a9f11e6b-65fd-4230-b7be-de41a604c82f",
     "showTitle": false,
     "tableResultSettingsMap": {},
     "title": ""
    }
   },
   "outputs": [
    {
     "output_type": "stream",
     "name": "stdout",
     "output_type": "stream",
     "text": [
      "+-----------+----------+---------+--------+------------+---------+----------+------+\n|EMPLOYEE_ID|FIRST_NAME|LAST_NAME|   EMAIL|PHONE_NUMBER|HIRE_DATE|    JOB_ID|SALARY|\n+-----------+----------+---------+--------+------------+---------+----------+------+\n|        198|    Donald| OConnell|DOCONNEL|650.507.9833|21-Jun-07|  SH_CLERK|  2600|\n|        199|   Douglas|    Grant|  DGRANT|650.507.9844|13-Jan-08|  SH_CLERK|  2600|\n|        200|  Jennifer|   Whalen| JWHALEN|515.123.4444|17-Sep-03|   AD_ASST|  4400|\n|        201|   Michael|Hartstein|MHARTSTE|515.123.5555|17-Feb-04|    MK_MAN| 13000|\n|        202|       Pat|      Fay|    PFAY|603.123.6666|17-Aug-05|    MK_REP|  6000|\n|        203|     Susan|   Mavris| SMAVRIS|515.123.7777|07-Jun-02|    HR_REP|  6500|\n|        204|   Hermann|     Baer|   HBAER|515.123.8888|07-Jun-02|    PR_REP| 10000|\n|        205|   Shelley|  Higgins|SHIGGINS|515.123.8080|07-Jun-02|    AC_MGR| 12008|\n|        206|   William|    Gietz|  WGIETZ|515.123.8181|07-Jun-02|AC_ACCOUNT|  8300|\n|        100|    Steven|     King|   SKING|515.123.4567|17-Jun-03|   AD_PRES| 24000|\n|        101|     Neena|  Kochhar|NKOCHHAR|515.123.4568|21-Sep-05|     AD_VP| 17000|\n|        102|       Lex|  De Haan| LDEHAAN|515.123.4569|13-Jan-01|     AD_VP| 17000|\n|        103| Alexander|   Hunold| AHUNOLD|590.423.4567|03-Jan-06|   IT_PROG|  9000|\n|        104|     Bruce|    Ernst|  BERNST|590.423.4568|21-May-07|   IT_PROG|  6000|\n|        105|     David|   Austin| DAUSTIN|590.423.4569|25-Jun-05|   IT_PROG|  4800|\n|        106|     Valli|Pataballa|VPATABAL|590.423.4560|05-Feb-06|   IT_PROG|  4800|\n|        107|     Diana|  Lorentz|DLORENTZ|590.423.5567|07-Feb-07|   IT_PROG|  4200|\n|        108|     Nancy|Greenberg|NGREENBE|515.124.4569|17-Aug-02|    FI_MGR| 12008|\n|        109|    Daniel|   Faviet| DFAVIET|515.124.4169|16-Aug-02|FI_ACCOUNT|  9000|\n|        110|      John|     Chen|   JCHEN|515.124.4269|28-Sep-05|FI_ACCOUNT|  8200|\n+-----------+----------+---------+--------+------------+---------+----------+------+\nonly showing top 20 rows\nroot\n |-- EMPLOYEE_ID: integer (nullable = true)\n |-- FIRST_NAME: string (nullable = true)\n |-- LAST_NAME: string (nullable = true)\n |-- EMAIL: string (nullable = true)\n |-- PHONE_NUMBER: string (nullable = true)\n |-- HIRE_DATE: string (nullable = true)\n |-- JOB_ID: string (nullable = true)\n |-- SALARY: integer (nullable = true)\n\n+----------+-----------+\n|    JOB_ID|avg(SALARY)|\n+----------+-----------+\n|  PU_CLERK|     2780.0|\n|    PU_MAN|    11000.0|\n|     AD_VP|    17000.0|\n|    AC_MGR|    12008.0|\n|   AD_PRES|    24000.0|\n|    ST_MAN|     7280.0|\n|   IT_PROG|     5760.0|\n|    HR_REP|     6500.0|\n|FI_ACCOUNT|     7920.0|\n|   AD_ASST|     4400.0|\n|    PR_REP|    10000.0|\n|    MK_REP|     6000.0|\n|AC_ACCOUNT|     8300.0|\n|    FI_MGR|    12008.0|\n|    MK_MAN|    13000.0|\n|  ST_CLERK|     2750.0|\n|  SH_CLERK|     2600.0|\n+----------+-----------+\n\n+-----------+----------+---------+--------+------------+---------+----------+------+------+\n|EMPLOYEE_ID|FIRST_NAME|LAST_NAME|   EMAIL|PHONE_NUMBER|HIRE_DATE|    JOB_ID|SALARY| Bonus|\n+-----------+----------+---------+--------+------------+---------+----------+------+------+\n|        198|    Donald| OConnell|DOCONNEL|650.507.9833|21-Jun-07|  SH_CLERK|  2600| 260.0|\n|        199|   Douglas|    Grant|  DGRANT|650.507.9844|13-Jan-08|  SH_CLERK|  2600| 260.0|\n|        200|  Jennifer|   Whalen| JWHALEN|515.123.4444|17-Sep-03|   AD_ASST|  4400| 440.0|\n|        201|   Michael|Hartstein|MHARTSTE|515.123.5555|17-Feb-04|    MK_MAN| 13000|1300.0|\n|        202|       Pat|      Fay|    PFAY|603.123.6666|17-Aug-05|    MK_REP|  6000| 600.0|\n|        203|     Susan|   Mavris| SMAVRIS|515.123.7777|07-Jun-02|    HR_REP|  6500| 650.0|\n|        204|   Hermann|     Baer|   HBAER|515.123.8888|07-Jun-02|    PR_REP| 10000|1000.0|\n|        205|   Shelley|  Higgins|SHIGGINS|515.123.8080|07-Jun-02|    AC_MGR| 12008|1200.8|\n|        206|   William|    Gietz|  WGIETZ|515.123.8181|07-Jun-02|AC_ACCOUNT|  8300| 830.0|\n|        100|    Steven|     King|   SKING|515.123.4567|17-Jun-03|   AD_PRES| 24000|2400.0|\n|        101|     Neena|  Kochhar|NKOCHHAR|515.123.4568|21-Sep-05|     AD_VP| 17000|1700.0|\n|        102|       Lex|  De Haan| LDEHAAN|515.123.4569|13-Jan-01|     AD_VP| 17000|1700.0|\n|        103| Alexander|   Hunold| AHUNOLD|590.423.4567|03-Jan-06|   IT_PROG|  9000| 900.0|\n|        104|     Bruce|    Ernst|  BERNST|590.423.4568|21-May-07|   IT_PROG|  6000| 600.0|\n|        105|     David|   Austin| DAUSTIN|590.423.4569|25-Jun-05|   IT_PROG|  4800| 480.0|\n|        106|     Valli|Pataballa|VPATABAL|590.423.4560|05-Feb-06|   IT_PROG|  4800| 480.0|\n|        107|     Diana|  Lorentz|DLORENTZ|590.423.5567|07-Feb-07|   IT_PROG|  4200| 420.0|\n|        108|     Nancy|Greenberg|NGREENBE|515.124.4569|17-Aug-02|    FI_MGR| 12008|1200.8|\n|        109|    Daniel|   Faviet| DFAVIET|515.124.4169|16-Aug-02|FI_ACCOUNT|  9000| 900.0|\n|        110|      John|     Chen|   JCHEN|515.124.4269|28-Sep-05|FI_ACCOUNT|  8200| 820.0|\n+-----------+----------+---------+--------+------------+---------+----------+------+------+\nonly showing top 20 rows\n+-----------+----------+---------+-----+------------+---------+------+------+-----+\n|EMPLOYEE_ID|FIRST_NAME|LAST_NAME|EMAIL|PHONE_NUMBER|HIRE_DATE|JOB_ID|SALARY|Bonus|\n+-----------+----------+---------+-----+------------+---------+------+------+-----+\n+-----------+----------+---------+-----+------------+---------+------+------+-----+\n\n"
     ]
    },
    {
     "output_type": "display_data",
     "data": {
      "text/html": [
       "<style scoped>\n",
       "  .table-result-container {\n",
       "    max-height: 300px;\n",
       "    overflow: auto;\n",
       "  }\n",
       "  table, th, td {\n",
       "    border: 1px solid black;\n",
       "    border-collapse: collapse;\n",
       "  }\n",
       "  th, td {\n",
       "    padding: 5px;\n",
       "  }\n",
       "  th {\n",
       "    text-align: left;\n",
       "  }\n",
       "</style><div class='table-result-container'><table class='table-result'><thead style='background-color: white'><tr><th>JOB_ID</th><th>avg(SALARY)</th></tr></thead><tbody><tr><td>PU_CLERK</td><td>2780.0</td></tr><tr><td>PU_MAN</td><td>11000.0</td></tr><tr><td>AD_VP</td><td>17000.0</td></tr><tr><td>AC_MGR</td><td>12008.0</td></tr><tr><td>AD_PRES</td><td>24000.0</td></tr><tr><td>ST_MAN</td><td>7280.0</td></tr><tr><td>IT_PROG</td><td>5760.0</td></tr><tr><td>HR_REP</td><td>6500.0</td></tr><tr><td>FI_ACCOUNT</td><td>7920.0</td></tr><tr><td>AD_ASST</td><td>4400.0</td></tr><tr><td>PR_REP</td><td>10000.0</td></tr><tr><td>MK_REP</td><td>6000.0</td></tr><tr><td>AC_ACCOUNT</td><td>8300.0</td></tr><tr><td>FI_MGR</td><td>12008.0</td></tr><tr><td>MK_MAN</td><td>13000.0</td></tr><tr><td>ST_CLERK</td><td>2750.0</td></tr><tr><td>SH_CLERK</td><td>2600.0</td></tr></tbody></table></div>"
      ]
     },
     "metadata": {
      "application/vnd.databricks.v1+output": {
       "addedWidgets": {},
       "aggData": [],
       "aggError": "",
       "aggOverflow": false,
       "aggSchema": [],
       "aggSeriesLimitReached": false,
       "aggType": "",
       "arguments": {},
       "columnCustomDisplayInfos": {},
       "data": [
        [
         "PU_CLERK",
         2780.0
        ],
        [
         "PU_MAN",
         11000.0
        ],
        [
         "AD_VP",
         17000.0
        ],
        [
         "AC_MGR",
         12008.0
        ],
        [
         "AD_PRES",
         24000.0
        ],
        [
         "ST_MAN",
         7280.0
        ],
        [
         "IT_PROG",
         5760.0
        ],
        [
         "HR_REP",
         6500.0
        ],
        [
         "FI_ACCOUNT",
         7920.0
        ],
        [
         "AD_ASST",
         4400.0
        ],
        [
         "PR_REP",
         10000.0
        ],
        [
         "MK_REP",
         6000.0
        ],
        [
         "AC_ACCOUNT",
         8300.0
        ],
        [
         "FI_MGR",
         12008.0
        ],
        [
         "MK_MAN",
         13000.0
        ],
        [
         "ST_CLERK",
         2750.0
        ],
        [
         "SH_CLERK",
         2600.0
        ]
       ],
       "datasetInfos": [],
       "dbfsResultPath": null,
       "isJsonSchema": true,
       "metadata": {},
       "overflow": false,
       "plotOptions": {
        "customPlotOptions": {},
        "displayType": "table",
        "pivotAggregation": null,
        "pivotColumns": null,
        "xColumns": null,
        "yColumns": null
       },
       "removedWidgets": [],
       "schema": [
        {
         "metadata": "{}",
         "name": "JOB_ID",
         "type": "\"string\""
        },
        {
         "metadata": "{\"__autoGeneratedAlias\": \"true\"}",
         "name": "avg(SALARY)",
         "type": "\"double\""
        }
       ],
       "type": "table"
      }
     },
     "output_type": "display_data"
    }
   ],
   "source": [
    "from pyspark.sql import SparkSession \n",
    "spark = SparkSession.builder.appName(\"EmployeeDataAnalysis\").getOrCreate() \n",
    "df = spark.read.option(\"header\", True).option(\"inferSchema\", \n",
    "True).csv(\"/Volumes/sample/default/emp_volume/employees1 (1).csv\") \n",
    "df.show()\n",
    "df.printSchema() \n",
    "df.groupBy(\"JOB_ID\").avg(\"SALARY\").show()\n",
    "df = df.withColumn(\"Bonus\", df.SALARY * 0.10) \n",
    "df.show()\n",
    "df.filter(df.SALARY > 70000).show() \n",
    "df.groupBy(\"JOB_ID\").avg(\"SALARY\").display()"
   ]
  },
  {
   "cell_type": "code",
   "execution_count": 0,
   "metadata": {
    "application/vnd.databricks.v1+cell": {
     "cellMetadata": {},
     "inputWidgets": {},
     "nuid": "a86cc434-92d7-4a8e-8bcb-13167051ba56",
     "showTitle": false,
     "tableResultSettingsMap": {},
     "title": ""
    }
   },
   "outputs": [],
   "source": []
  }
 ],
 "metadata": {
  "application/vnd.databricks.v1+notebook": {
   "computePreferences": null,
   "dashboards": [],
   "environmentMetadata": {
    "base_environment": "",
    "environment_version": "2"
   },
   "inputWidgetPreferences": null,
   "language": "python",
   "notebookMetadata": {
    "pythonIndentUnit": 4
   },
   "notebookName": "HR Employee Notebook 2025-07-18 11:39:29",
   "widgets": {}
  },
  "language_info": {
   "name": "python"
  }
 },
 "nbformat": 4,
 "nbformat_minor": 0
}