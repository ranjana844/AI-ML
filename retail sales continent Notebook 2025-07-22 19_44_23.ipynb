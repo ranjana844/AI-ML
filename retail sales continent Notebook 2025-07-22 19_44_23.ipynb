{
 "cells": [
  {
   "cell_type": "code",
   "execution_count": 0,
   "metadata": {
    "application/vnd.databricks.v1+cell": {
     "cellMetadata": {
      "byteLimit": 2048000,
      "rowLimit": 10000
     },
     "inputWidgets": {},
     "nuid": "25dc8c86-9e52-4632-a407-b7dc1fbfe229",
     "showTitle": false,
     "tableResultSettingsMap": {},
     "title": ""
    }
   },
   "outputs": [
    {
     "output_type": "stream",
     "name": "stdout",
     "output_type": "stream",
     "text": [
      "root\n |-- Region: string (nullable = true)\n |-- Country: string (nullable = true)\n |-- Item Type: string (nullable = true)\n |-- Sales Channel: string (nullable = true)\n |-- Order Priority: string (nullable = true)\n |-- Order Date: date (nullable = true)\n |-- Order ID: integer (nullable = true)\n |-- Ship Date: date (nullable = true)\n |-- Units Sold: integer (nullable = true)\n |-- Unit Price: double (nullable = true)\n |-- Unit Cost: double (nullable = true)\n |-- Total Revenue: double (nullable = true)\n |-- Total Cost: double (nullable = true)\n |-- Total Profit: double (nullable = true)\n\n+--------------------+--------------------+---------------+-------------+--------------+----------+---------+----------+----------+----------+---------+-------------+----------+------------+\n|              Region|             Country|      Item Type|Sales Channel|Order Priority|Order Date| Order ID| Ship Date|Units Sold|Unit Price|Unit Cost|Total Revenue|Total Cost|Total Profit|\n+--------------------+--------------------+---------------+-------------+--------------+----------+---------+----------+----------+----------+---------+-------------+----------+------------+\n|Australia and Oce...|              Tuvalu|      Baby Food|      Offline|             H|2010-05-28|669165933|2010-06-27|      9925|    255.28|   159.42|    2533654.0| 1582243.5|    951410.5|\n|Central America a...|             Grenada|         Cereal|       Online|             C|2012-08-22|963881480|2012-09-15|      2804|     205.7|   117.11|     576782.8| 328376.44|   248406.36|\n|              Europe|              Russia|Office Supplies|      Offline|             L|2014-05-02|341417157|2014-05-08|      1779|    651.21|   524.96|   1158502.59| 933903.84|   224598.75|\n|  Sub-Saharan Africa|Sao Tome and Prin...|         Fruits|       Online|             C|2014-06-20|514321792|2014-07-05|      8102|      9.33|     6.92|     75591.66|  56065.84|    19525.82|\n|  Sub-Saharan Africa|              Rwanda|Office Supplies|      Offline|             L|2013-02-01|115456712|2013-02-06|      5062|    651.21|   524.96|   3296425.02|2657347.52|    639077.5|\n+--------------------+--------------------+---------------+-------------+--------------+----------+---------+----------+----------+----------+---------+-------------+----------+------------+\nonly showing top 5 rows\n+--------------------+--------------------+\n|           Continent|        TotalRevenue|\n+--------------------+--------------------+\n|                Asia|2.1347091020000003E7|\n|  Sub-Saharan Africa| 3.967203143000001E7|\n|              Europe|       3.336893211E7|\n|Central America a...|          9170385.49|\n|Australia and Oce...|1.4094265130000003E7|\n|       North America|   5643356.550000001|\n|Middle East and N...|       1.405270658E7|\n+--------------------+--------------------+\n\n"
     ]
    }
   ],
   "source": [
    "# Read from uploaded file in DBFS\n",
    "df = spark.read \\\n",
    "    .option(\"header\", \"true\") \\\n",
    "    .option(\"inferSchema\", \"true\") \\\n",
    "    .csv(\"/Volumes/sample/default/emp_volume/100 Sales Records.csv\")\n",
    "\n",
    "# Inspect schema\n",
    "df.printSchema()\n",
    "df.show(5)\n",
    "\n",
    "# Select required columns\n",
    "from pyspark.sql.functions import col\n",
    "\n",
    "df_selected = df.select(\n",
    "    col(\"Region\").alias(\"Continent\"),\n",
    "    col(\"Total Revenue\").alias(\"Revenue\").cast(\"double\")\n",
    ")\n",
    "\n",
    "# Compute total revenue per continent\n",
    "from pyspark.sql.functions import sum\n",
    "\n",
    "revenue_by_continent = df_selected.groupBy(\"Continent\") \\\n",
    "    .agg(sum(\"Revenue\").alias(\"TotalRevenue\"))\n",
    "\n",
    "revenue_by_continent.show()\n"
   ]
  }
 ],
 "metadata": {
  "application/vnd.databricks.v1+notebook": {
   "computePreferences": null,
   "dashboards": [],
   "environmentMetadata": {
    "base_environment": "",
    "environment_version": "2"
   },
   "inputWidgetPreferences": null,
   "language": "python",
   "notebookMetadata": {
    "pythonIndentUnit": 4
   },
   "notebookName": "retail sales continent Notebook 2025-07-22 19:44:23",
   "widgets": {}
  },
  "language_info": {
   "name": "python"
  }
 },
 "nbformat": 4,
 "nbformat_minor": 0
}