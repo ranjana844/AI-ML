{
 "cells": [
  {
   "cell_type": "code",
   "execution_count": 1,
   "id": "78f6bc5b-d24c-4548-ba63-4c5a4f319575",
   "metadata": {},
   "outputs": [],
   "source": [
    "import numpy as np"
   ]
  },
  {
   "cell_type": "code",
   "execution_count": 2,
   "id": "bd856121-8aae-41a5-8f98-fa3653ea3fbb",
   "metadata": {},
   "outputs": [],
   "source": [
    "def mark_duplicates_with_numpy(arr):\n",
    "    result = np.full(arr.shape, False)\n",
    "    _, first_indices = np.unique(arr, return_index=True)\n",
    "    result[:] = True\n",
    "    result[first_indices] = False\n",
    "    return result"
   ]
  },
  {
   "cell_type": "code",
   "execution_count": 3,
   "id": "4789d277-6b8b-41d1-8603-6dc1bfb99d39",
   "metadata": {},
   "outputs": [],
   "source": [
    "test_cases = [\n",
    "    [0, 0, 3, 0, 2, 4, 2, 2, 2],\n",
    "    [1, 2, 3, 1, 4, 2, 5]\n",
    "]\n"
   ]
  },
  {
   "cell_type": "code",
   "execution_count": 4,
   "id": "7735dcad-0b2f-4ac3-95e5-f02dbb03d31a",
   "metadata": {},
   "outputs": [
    {
     "name": "stdout",
     "output_type": "stream",
     "text": [
      "[False  True False  True False False  True  True  True]\n",
      "[False False False  True False  True False]\n"
     ]
    }
   ],
   "source": [
    "for case in test_cases:\n",
    "    arr = np.array(case)\n",
    "    result = mark_duplicates_with_numpy(arr)\n",
    "    print(result)"
   ]
  },
  {
   "cell_type": "code",
   "execution_count": null,
   "id": "ecd92182-4316-4fff-b5c3-c0c6c3356485",
   "metadata": {},
   "outputs": [],
   "source": []
  }
 ],
 "metadata": {
  "kernelspec": {
   "display_name": "Python 3 (ipykernel)",
   "language": "python",
   "name": "python3"
  },
  "language_info": {
   "codemirror_mode": {
    "name": "ipython",
    "version": 3
   },
   "file_extension": ".py",
   "mimetype": "text/x-python",
   "name": "python",
   "nbconvert_exporter": "python",
   "pygments_lexer": "ipython3",
   "version": "3.13.5"
  }
 },
 "nbformat": 4,
 "nbformat_minor": 5
}
