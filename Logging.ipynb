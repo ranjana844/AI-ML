{
 "cells": [
  {
   "cell_type": "code",
   "execution_count": 1,
   "id": "75b115a0-70f2-4c8b-9e26-e0e9eb6b332b",
   "metadata": {},
   "outputs": [],
   "source": [
    "import logging"
   ]
  },
  {
   "cell_type": "code",
   "execution_count": 2,
   "id": "7678576f-1e1f-434d-9a4d-0efc7e029adf",
   "metadata": {},
   "outputs": [],
   "source": [
    "# Set up basic logging\n",
    "logging.basicConfig(\n",
    " filename='etl_log.txt',\n",
    " level=logging.INFO,\n",
    " format='%(asctime)s - %(levelname)s - %(message)s'\n",
    ")"
   ]
  },
  {
   "cell_type": "code",
   "execution_count": 3,
   "id": "b589affb-cb62-4706-aa24-e5d179281982",
   "metadata": {},
   "outputs": [],
   "source": [
    "import pandas as pd\n",
    "import numpy as np\n",
    "import mysql.connector\n",
    "import datetime"
   ]
  },
  {
   "cell_type": "code",
   "execution_count": 5,
   "id": "f9cfba78-6678-437b-8d9b-1b6f4d24a0e3",
   "metadata": {},
   "outputs": [
    {
     "name": "stdout",
     "output_type": "stream",
     "text": [
      "Raw data loaded:\n",
      "   EMPLOYEE_ID FIRST_NAME  LAST_NAME     EMAIL  PHONE_NUMBER  HIRE_DATE  \\\n",
      "0          198     Donald   OConnell  DOCONNEL  650.507.9833  21-Jun-07   \n",
      "1          199    Douglas      Grant    DGRANT  650.507.9844  13-Jan-08   \n",
      "2          200   Jennifer     Whalen   JWHALEN  515.123.4444  17-Sep-03   \n",
      "3          201    Michael  Hartstein  MHARTSTE  515.123.5555  17-Feb-04   \n",
      "4          202        Pat        Fay      PFAY  603.123.6666  17-Aug-05   \n",
      "\n",
      "     JOB_ID  SALARY  \n",
      "0  SH_CLERK    2600  \n",
      "1  SH_CLERK    2600  \n",
      "2   AD_ASST    4400  \n",
      "3    MK_MAN   13000  \n",
      "4    MK_REP    6000  \n",
      "['EMPLOYEE_ID', 'FIRST_NAME', 'LAST_NAME', 'EMAIL', 'PHONE_NUMBER', 'HIRE_DATE', 'JOB_ID', 'SALARY']\n"
     ]
    }
   ],
   "source": [
    "csv_file_path = r\"C:\\Users\\ranja\\Downloads\\employees1 (1).csv\"\n",
    "df = pd.read_csv(csv_file_path)\n",
    "print(\"Raw data loaded:\")\n",
    "print(df.head())\n",
    "print(df.columns.tolist())\n",
    "logging.info(\"CSV loaded successfully.\")"
   ]
  },
  {
   "cell_type": "code",
   "execution_count": 6,
   "id": "762e4098-1c9e-40b6-bfa1-be232f1aceb1",
   "metadata": {},
   "outputs": [],
   "source": [
    "# Handle missing values\n",
    "df.fillna({\n",
    " 'EMAIL': 'not_provided@example.com',\n",
    " 'PHONE_NUMBER': '0000000000',\n",
    "     'HIRE_DATE': '01-Jan-00',\n",
    " 'SALARY': 0\n",
    "}, inplace=True)"
   ]
  },
  {
   "cell_type": "code",
   "execution_count": 7,
   "id": "5affccf1-cf3a-460b-950e-c2a638eed854",
   "metadata": {},
   "outputs": [],
   "source": [
    "# Standardize column names (optional)\n",
    "df.columns = [col.strip().lower().replace(' ', '_') for col in df.columns]"
   ]
  },
  {
   "cell_type": "code",
   "execution_count": 8,
   "id": "2fc9e371-9854-4bef-ad51-f3db909507b9",
   "metadata": {},
   "outputs": [
    {
     "name": "stdout",
     "output_type": "stream",
     "text": [
      "['employee_id', 'first_name', 'last_name', 'email', 'phone_number', 'hire_date', 'job_id', 'salary']\n"
     ]
    }
   ],
   "source": [
    "print(df.columns.tolist())"
   ]
  },
  {
   "cell_type": "code",
   "execution_count": 9,
   "id": "4ebe4165-1c7c-4dce-9a93-8cf6d8681df9",
   "metadata": {},
   "outputs": [],
   "source": [
    "# Convert hire_date from 'dd-MMM-yy' to 'YYYY-MM-DD'\n",
    "df['hire_date'] = pd.to_datetime(df['hire_date'], format='%d-%b-%y',\n",
    "errors='coerce')"
   ]
  },
  {
   "cell_type": "code",
   "execution_count": 10,
   "id": "e9a28aa2-b61a-4557-9d81-99e795bdb020",
   "metadata": {},
   "outputs": [],
   "source": [
    "# Replace invalid dates with a default\n",
    "df['hire_date'] = df['hire_date'].fillna(pd.to_datetime('2000-01-01'))\n",
    "# Replace non-numeric salaries with 0\n",
    "df['salary'] = pd.to_numeric(df['salary'], errors='coerce').fillna(0).astype(int)"
   ]
  },
  {
   "cell_type": "code",
   "execution_count": 11,
   "id": "0be58b4a-9519-4f74-9eda-05eabf460e5f",
   "metadata": {},
   "outputs": [],
   "source": [
    "logging.info(\"Data cleaning completed.\")"
   ]
  },
  {
   "cell_type": "code",
   "execution_count": 16,
   "id": "b596bf3e-64c4-4a7f-9156-a65c938a7299",
   "metadata": {},
   "outputs": [],
   "source": [
    "mydb = mysql.connector.connect(\n",
    " host=\"localhost\",\n",
    " user=\"root\",\n",
    " password=\"root\",\n",
    " database=\"employee_jupyter\" # <-- change this\n",
    ")"
   ]
  },
  {
   "cell_type": "code",
   "execution_count": 21,
   "id": "7558cbe6-88de-4cdd-8422-c622c230c1ab",
   "metadata": {},
   "outputs": [],
   "source": [
    " cursor.execute(sql, values)"
   ]
  },
  {
   "cell_type": "code",
   "execution_count": 22,
   "id": "d44deb8e-5db6-4491-b223-a0c179905ada",
   "metadata": {},
   "outputs": [
    {
     "name": "stdout",
     "output_type": "stream",
     "text": [
      "ETL process completed successfully.\n"
     ]
    }
   ],
   "source": [
    "mydb.commit()\n",
    "cursor.close()\n",
    "mydb.close()\n",
    "logging.error(\"Something went wrong\", exc_info=True)\n",
    "print(\"ETL process completed successfully.\")"
   ]
  }
 ],
 "metadata": {
  "kernelspec": {
   "display_name": "Python 3 (ipykernel)",
   "language": "python",
   "name": "python3"
  },
  "language_info": {
   "codemirror_mode": {
    "name": "ipython",
    "version": 3
   },
   "file_extension": ".py",
   "mimetype": "text/x-python",
   "name": "python",
   "nbconvert_exporter": "python",
   "pygments_lexer": "ipython3",
   "version": "3.13.5"
  }
 },
 "nbformat": 4,
 "nbformat_minor": 5
}
