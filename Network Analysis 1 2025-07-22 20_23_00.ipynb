{
 "cells": [
  {
   "cell_type": "code",
   "execution_count": 0,
   "metadata": {
    "application/vnd.databricks.v1+cell": {
     "cellMetadata": {
      "byteLimit": 2048000,
      "rowLimit": 10000
     },
     "inputWidgets": {},
     "nuid": "229b1832-d308-4338-b02b-853f2e8fc00c",
     "showTitle": false,
     "tableResultSettingsMap": {},
     "title": ""
    }
   },
   "outputs": [
    {
     "output_type": "stream",
     "name": "stdout",
     "output_type": "stream",
     "text": [
      "Collecting scapy\n  Downloading scapy-2.6.1-py3-none-any.whl.metadata (5.6 kB)\nDownloading scapy-2.6.1-py3-none-any.whl (2.4 MB)\n\u001B[?25l   \u001B[90m━━━━━━━━━━━━━━━━━━━━━━━━━━━━━━━━━━━━━━━━\u001B[0m \u001B[32m0.0/2.4 MB\u001B[0m \u001B[31m?\u001B[0m eta \u001B[36m-:--:--\u001B[0m\r\u001B[2K   \u001B[90m━━━━━━━━━━━━━━━━━━━━━━━━━━━━━━━━━━━━━━━━\u001B[0m \u001B[32m2.4/2.4 MB\u001B[0m \u001B[31m53.0 MB/s\u001B[0m eta \u001B[36m0:00:00\u001B[0m\n\u001B[?25hInstalling collected packages: scapy\nSuccessfully installed scapy-2.6.1\n\u001B[43mNote: you may need to restart the kernel using %restart_python or dbutils.library.restartPython() to use updated packages.\u001B[0m\n"
     ]
    }
   ],
   "source": [
    "%pip install scapy"
   ]
  },
  {
   "cell_type": "code",
   "execution_count": 0,
   "metadata": {
    "application/vnd.databricks.v1+cell": {
     "cellMetadata": {
      "byteLimit": 2048000,
      "rowLimit": 10000
     },
     "inputWidgets": {},
     "nuid": "fb7243bf-eb00-480b-af5c-8a3ac9735722",
     "showTitle": false,
     "tableResultSettingsMap": {},
     "title": ""
    }
   },
   "outputs": [],
   "source": [
    "%restart_python\n",
    "     "
   ]
  },
  {
   "cell_type": "code",
   "execution_count": 0,
   "metadata": {
    "application/vnd.databricks.v1+cell": {
     "cellMetadata": {
      "byteLimit": 2048000,
      "rowLimit": 10000
     },
     "inputWidgets": {},
     "nuid": "11c1a013-d201-4141-879c-53c0a4cab1d8",
     "showTitle": false,
     "tableResultSettingsMap": {},
     "title": ""
    }
   },
   "outputs": [
    {
     "output_type": "stream",
     "name": "stdout",
     "output_type": "stream",
     "text": [
      "Packet 1\n  Length: 62\n  Transport Layer: IP\n  Transport Layer: TCP\n  Summary: Ether / IP / TCP 145.254.160.237:3372 > 65.208.228.223:http S\n----------------------------------------\nPacket 2\n  Length: 62\n  Transport Layer: IP\n  Transport Layer: TCP\n  Summary: Ether / IP / TCP 65.208.228.223:http > 145.254.160.237:3372 SA\n----------------------------------------\nPacket 3\n  Length: 54\n  Transport Layer: IP\n  Transport Layer: TCP\n  Summary: Ether / IP / TCP 145.254.160.237:3372 > 65.208.228.223:http A\n----------------------------------------\nPacket 4\n  Length: 533\n  Transport Layer: IP\n  Transport Layer: TCP\n  Application Layer: HTTP\n  Summary: Ether / IP / TCP 145.254.160.237:3372 > 65.208.228.223:http PA / Raw\n----------------------------------------\nPacket 5\n  Length: 54\n  Transport Layer: IP\n  Transport Layer: TCP\n  Summary: Ether / IP / TCP 65.208.228.223:http > 145.254.160.237:3372 A\n----------------------------------------\n"
     ]
    }
   ],
   "source": [
    "from scapy.all import rdpcap, IP, TCP\n",
    "\n",
    "# Load the capture\n",
    "packets = rdpcap(\"/Volumes/pcap/default/http/http.cap\")\n",
    "\n",
    "# Analyze first 5 packets\n",
    "for i, pkt in enumerate(packets[:5]):\n",
    "    print(f\"Packet {i+1}\")\n",
    "    print(f\"  Length: {len(pkt)}\")\n",
    "    \n",
    "    # Check and print layers\n",
    "    if IP in pkt:\n",
    "        print(\"  Transport Layer: IP\")\n",
    "    if TCP in pkt:\n",
    "        print(\"  Transport Layer: TCP\")\n",
    "    if pkt.haslayer('Raw') and b\"HTTP\" in bytes(pkt['Raw']):\n",
    "        print(\"  Application Layer: HTTP\")\n",
    "    \n",
    "    print(f\"  Summary: {pkt.summary()}\")\n",
    "    print(\"-\" * 40)"
   ]
  },
  {
   "cell_type": "code",
   "execution_count": 0,
   "metadata": {
    "application/vnd.databricks.v1+cell": {
     "cellMetadata": {
      "byteLimit": 2048000,
      "rowLimit": 10000
     },
     "inputWidgets": {},
     "nuid": "693c4253-a9bc-4b58-ae9f-0f0bf02f4ee8",
     "showTitle": false,
     "tableResultSettingsMap": {},
     "title": ""
    }
   },
   "outputs": [
    {
     "output_type": "stream",
     "name": "stdout",
     "output_type": "stream",
     "text": [
      "Top 5 Source IPs:\n145.254.160.237: 20 packets\n65.208.228.223: 18 packets\n216.239.59.99: 4 packets\n145.253.2.203: 1 packets\n"
     ]
    }
   ],
   "source": [
    "from collections import Counter\n",
    "from scapy.all import rdpcap, IP\n",
    "\n",
    "packets = rdpcap(\"/Volumes/pcap/default/http/http.cap\")\n",
    "\n",
    "ip_counts = Counter()\n",
    "\n",
    "for pkt in packets:\n",
    "    if IP in pkt:\n",
    "        ip_counts[pkt[IP].src] += 1\n",
    "\n",
    "print(\"Top 5 Source IPs:\")\n",
    "for ip, count in ip_counts.most_common(5):\n",
    "    print(f\"{ip}: {count} packets\")"
   ]
  },
  {
   "cell_type": "code",
   "execution_count": 0,
   "metadata": {
    "application/vnd.databricks.v1+cell": {
     "cellMetadata": {
      "byteLimit": 2048000,
      "rowLimit": 10000
     },
     "inputWidgets": {},
     "nuid": "2287d359-d31e-43da-9f12-cca222d6bdb6",
     "showTitle": false,
     "tableResultSettingsMap": {},
     "title": ""
    }
   },
   "outputs": [
    {
     "output_type": "stream",
     "name": "stdout",
     "output_type": "stream",
     "text": [
      "Visited URLs:\nhttp://www.ethereal.com/download.html\nhttp://pagead2.googlesyndication.com/pagead/ads?client=ca-pub-2309191948673629&random=1084443430285&lmt=1082467020&format=468x60_as&output=html&url=http%3A%2F%2Fwww.ethereal.com%2Fdownload.html&color_bg=FFFFFF&color_text=333333&color_link=000000&color_url=666633&color_border=666633\n"
     ]
    }
   ],
   "source": [
    "from scapy.all import rdpcap, TCP\n",
    "\n",
    "packets = rdpcap(\"/Volumes/pcap/default/http/http.cap\")\n",
    "\n",
    "print(\"Visited URLs:\")\n",
    "for pkt in packets:\n",
    "    if pkt.haslayer(TCP) and pkt.haslayer('Raw'):\n",
    "        payload = pkt['Raw'].load\n",
    "        if b\"GET\" in payload or b\"POST\" in payload:\n",
    "            try:\n",
    "                lines = payload.split(b\"\\r\\n\")\n",
    "                host_line = next(line for line in lines if b\"Host:\" in line)\n",
    "                uri_line = lines[0]\n",
    "                host = host_line.split(b\":\")[1].strip().decode()\n",
    "                uri = uri_line.split(b\" \")[1].decode()\n",
    "                print(f\"http://{host}{uri}\")\n",
    "            except:\n",
    "                continue"
   ]
  },
  {
   "cell_type": "code",
   "execution_count": 0,
   "metadata": {
    "application/vnd.databricks.v1+cell": {
     "cellMetadata": {
      "byteLimit": 2048000,
      "rowLimit": 10000
     },
     "inputWidgets": {},
     "nuid": "34bb2f78-47c2-4dc9-bc65-b20b89f7c4fd",
     "showTitle": false,
     "tableResultSettingsMap": {},
     "title": ""
    }
   },
   "outputs": [
    {
     "output_type": "stream",
     "name": "stdout",
     "output_type": "stream",
     "text": [
      "Top 10 Queried Domains:\ngoogle.com: 3 times\nwww.netbsd.org: 3 times\nGRIMM.utelsystems.local: 2 times\n104.9.192.66.in-addr.arpa: 1 times\nwww.google.com: 1 times\nwww.l.google.com: 1 times\nwww.example.com: 1 times\nwww.example.notginh: 1 times\nwww.isc.org: 1 times\n1.0.0.127.in-addr.arpa: 1 times\n"
     ]
    }
   ],
   "source": [
    "from scapy.all import rdpcap, DNS, DNSQR\n",
    "from collections import Counter\n",
    "\n",
    "# Load the capture file\n",
    "packets = rdpcap(\"/Volumes/pcap/default/http/dns.cap\")\n",
    "\n",
    "# Counter for domain names\n",
    "domain_counter = Counter()\n",
    "\n",
    "# Iterate over packets\n",
    "for pkt in packets:\n",
    "    if pkt.haslayer(DNS) and pkt.getlayer(DNS).qr == 0:  # qr=0 means it's a query\n",
    "        query = pkt.getlayer(DNSQR)\n",
    "        if query:\n",
    "            domain = query.qname.decode().strip('.')\n",
    "            domain_counter[domain] += 1\n",
    "\n",
    "# Print top 10 queried domains\n",
    "print(\"Top 10 Queried Domains:\")\n",
    "for domain, count in domain_counter.most_common(10):\n",
    "    print(f\"{domain}: {count} times\")"
   ]
  },
  {
   "cell_type": "code",
   "execution_count": 0,
   "metadata": {
    "application/vnd.databricks.v1+cell": {
     "cellMetadata": {},
     "inputWidgets": {},
     "nuid": "7e5ab5dd-b054-49d5-9a68-9952a7bd707c",
     "showTitle": false,
     "tableResultSettingsMap": {},
     "title": ""
    }
   },
   "outputs": [],
   "source": []
  }
 ],
 "metadata": {
  "application/vnd.databricks.v1+notebook": {
   "computePreferences": null,
   "dashboards": [],
   "environmentMetadata": {
    "base_environment": "",
    "environment_version": "2"
   },
   "inputWidgetPreferences": null,
   "language": "python",
   "notebookMetadata": {
    "pythonIndentUnit": 4
   },
   "notebookName": "Network Analysis 1 2025-07-22 20:23:00",
   "widgets": {}
  },
  "language_info": {
   "name": "python"
  }
 },
 "nbformat": 4,
 "nbformat_minor": 0
}