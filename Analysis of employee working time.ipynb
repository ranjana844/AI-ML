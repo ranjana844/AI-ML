{
 "cells": [
  {
   "cell_type": "code",
   "execution_count": 8,
   "id": "ea97d6c4-e6c5-455b-84a2-fbe6b4653d92",
   "metadata": {},
   "outputs": [],
   "source": [
    "import numpy as np"
   ]
  },
  {
   "cell_type": "code",
   "execution_count": 9,
   "id": "893aa9c7-e7f3-4ca4-b01c-b5d25b6f5c15",
   "metadata": {},
   "outputs": [],
   "source": [
    "import pandas as pd"
   ]
  },
  {
   "cell_type": "code",
   "execution_count": 10,
   "id": "8dc2d0be-6209-4d61-b574-eb81650b7608",
   "metadata": {},
   "outputs": [],
   "source": [
    "np.random.seed(42)"
   ]
  },
  {
   "cell_type": "code",
   "execution_count": 11,
   "id": "8bba05d3-f3fd-4cf2-9ca6-134c5cebc15a",
   "metadata": {},
   "outputs": [],
   "source": [
    "employee=[f'epy_{i}'for i in range(1,31)]"
   ]
  },
  {
   "cell_type": "code",
   "execution_count": 12,
   "id": "e766af60-1814-4faa-8178-41b671e1d700",
   "metadata": {},
   "outputs": [],
   "source": [
    "dates=pd.date_range(start=\"2025-07-01\",periods=30,freq=\"D\")"
   ]
  },
  {
   "cell_type": "code",
   "execution_count": 13,
   "id": "a4284c80-bf17-4c07-8ea5-22576174b551",
   "metadata": {},
   "outputs": [
    {
     "data": {
      "text/plain": [
       "['epy_1',\n",
       " 'epy_2',\n",
       " 'epy_3',\n",
       " 'epy_4',\n",
       " 'epy_5',\n",
       " 'epy_6',\n",
       " 'epy_7',\n",
       " 'epy_8',\n",
       " 'epy_9',\n",
       " 'epy_10',\n",
       " 'epy_11',\n",
       " 'epy_12',\n",
       " 'epy_13',\n",
       " 'epy_14',\n",
       " 'epy_15',\n",
       " 'epy_16',\n",
       " 'epy_17',\n",
       " 'epy_18',\n",
       " 'epy_19',\n",
       " 'epy_20',\n",
       " 'epy_21',\n",
       " 'epy_22',\n",
       " 'epy_23',\n",
       " 'epy_24',\n",
       " 'epy_25',\n",
       " 'epy_26',\n",
       " 'epy_27',\n",
       " 'epy_28',\n",
       " 'epy_29',\n",
       " 'epy_30']"
      ]
     },
     "execution_count": 13,
     "metadata": {},
     "output_type": "execute_result"
    }
   ],
   "source": [
    "employee"
   ]
  },
  {
   "cell_type": "code",
   "execution_count": 15,
   "id": "0f5d7503-9b63-4e6a-95ce-b00454e1d756",
   "metadata": {},
   "outputs": [],
   "source": [
    "data={\n",
    "    \"Date\":np.tile(dates,len(employee)),\n",
    "    \"employee_id\":np.repeat(employee,len(dates)),\n",
    "    \"working_hours\":np.random.normal(loc=30,scale=5,size=len(dates)*len(employee))\n",
    "}   "
   ]
  },
  {
   "cell_type": "code",
   "execution_count": 16,
   "id": "c8bb2b99-34e6-4bf1-b67b-45bcc790d43e",
   "metadata": {},
   "outputs": [],
   "source": [
    "df=pd.DataFrame(data)"
   ]
  },
  {
   "cell_type": "code",
   "execution_count": 17,
   "id": "5aa8c305-8714-4066-af4e-cb112717344f",
   "metadata": {},
   "outputs": [
    {
     "data": {
      "text/html": [
       "<div>\n",
       "<style scoped>\n",
       "    .dataframe tbody tr th:only-of-type {\n",
       "        vertical-align: middle;\n",
       "    }\n",
       "\n",
       "    .dataframe tbody tr th {\n",
       "        vertical-align: top;\n",
       "    }\n",
       "\n",
       "    .dataframe thead th {\n",
       "        text-align: right;\n",
       "    }\n",
       "</style>\n",
       "<table border=\"1\" class=\"dataframe\">\n",
       "  <thead>\n",
       "    <tr style=\"text-align: right;\">\n",
       "      <th></th>\n",
       "      <th>Date</th>\n",
       "      <th>employee_id</th>\n",
       "      <th>working_hours</th>\n",
       "    </tr>\n",
       "  </thead>\n",
       "  <tbody>\n",
       "    <tr>\n",
       "      <th>0</th>\n",
       "      <td>2025-07-01</td>\n",
       "      <td>epy_1</td>\n",
       "      <td>32.483571</td>\n",
       "    </tr>\n",
       "    <tr>\n",
       "      <th>1</th>\n",
       "      <td>2025-07-02</td>\n",
       "      <td>epy_1</td>\n",
       "      <td>29.308678</td>\n",
       "    </tr>\n",
       "    <tr>\n",
       "      <th>2</th>\n",
       "      <td>2025-07-03</td>\n",
       "      <td>epy_1</td>\n",
       "      <td>33.238443</td>\n",
       "    </tr>\n",
       "    <tr>\n",
       "      <th>3</th>\n",
       "      <td>2025-07-04</td>\n",
       "      <td>epy_1</td>\n",
       "      <td>37.615149</td>\n",
       "    </tr>\n",
       "    <tr>\n",
       "      <th>4</th>\n",
       "      <td>2025-07-05</td>\n",
       "      <td>epy_1</td>\n",
       "      <td>28.829233</td>\n",
       "    </tr>\n",
       "    <tr>\n",
       "      <th>...</th>\n",
       "      <td>...</td>\n",
       "      <td>...</td>\n",
       "      <td>...</td>\n",
       "    </tr>\n",
       "    <tr>\n",
       "      <th>895</th>\n",
       "      <td>2025-07-26</td>\n",
       "      <td>epy_30</td>\n",
       "      <td>33.243549</td>\n",
       "    </tr>\n",
       "    <tr>\n",
       "      <th>896</th>\n",
       "      <td>2025-07-27</td>\n",
       "      <td>epy_30</td>\n",
       "      <td>29.164410</td>\n",
       "    </tr>\n",
       "    <tr>\n",
       "      <th>897</th>\n",
       "      <td>2025-07-28</td>\n",
       "      <td>epy_30</td>\n",
       "      <td>30.733568</td>\n",
       "    </tr>\n",
       "    <tr>\n",
       "      <th>898</th>\n",
       "      <td>2025-07-29</td>\n",
       "      <td>epy_30</td>\n",
       "      <td>36.032545</td>\n",
       "    </tr>\n",
       "    <tr>\n",
       "      <th>899</th>\n",
       "      <td>2025-07-30</td>\n",
       "      <td>epy_30</td>\n",
       "      <td>25.915322</td>\n",
       "    </tr>\n",
       "  </tbody>\n",
       "</table>\n",
       "<p>900 rows × 3 columns</p>\n",
       "</div>"
      ],
      "text/plain": [
       "          Date employee_id  working_hours\n",
       "0   2025-07-01       epy_1      32.483571\n",
       "1   2025-07-02       epy_1      29.308678\n",
       "2   2025-07-03       epy_1      33.238443\n",
       "3   2025-07-04       epy_1      37.615149\n",
       "4   2025-07-05       epy_1      28.829233\n",
       "..         ...         ...            ...\n",
       "895 2025-07-26      epy_30      33.243549\n",
       "896 2025-07-27      epy_30      29.164410\n",
       "897 2025-07-28      epy_30      30.733568\n",
       "898 2025-07-29      epy_30      36.032545\n",
       "899 2025-07-30      epy_30      25.915322\n",
       "\n",
       "[900 rows x 3 columns]"
      ]
     },
     "execution_count": 17,
     "metadata": {},
     "output_type": "execute_result"
    }
   ],
   "source": [
    "df"
   ]
  },
  {
   "cell_type": "code",
   "execution_count": 18,
   "id": "988546d0-188a-40ea-819f-1ebbe1479670",
   "metadata": {},
   "outputs": [],
   "source": [
    "df.to_csv(\"employee_working_hours.csv\",index=False)"
   ]
  },
  {
   "cell_type": "code",
   "execution_count": 19,
   "id": "8592473d-f640-49fa-963d-16835a5d96e6",
   "metadata": {},
   "outputs": [],
   "source": [
    "df_csv = pd.read_csv(\"employee_working_hours.csv\")"
   ]
  },
  {
   "cell_type": "code",
   "execution_count": 20,
   "id": "f8eb3719-c11e-415b-b8fb-3c6b54c16607",
   "metadata": {},
   "outputs": [
    {
     "data": {
      "text/html": [
       "<div>\n",
       "<style scoped>\n",
       "    .dataframe tbody tr th:only-of-type {\n",
       "        vertical-align: middle;\n",
       "    }\n",
       "\n",
       "    .dataframe tbody tr th {\n",
       "        vertical-align: top;\n",
       "    }\n",
       "\n",
       "    .dataframe thead th {\n",
       "        text-align: right;\n",
       "    }\n",
       "</style>\n",
       "<table border=\"1\" class=\"dataframe\">\n",
       "  <thead>\n",
       "    <tr style=\"text-align: right;\">\n",
       "      <th></th>\n",
       "      <th>Date</th>\n",
       "      <th>employee_id</th>\n",
       "      <th>working_hours</th>\n",
       "    </tr>\n",
       "  </thead>\n",
       "  <tbody>\n",
       "    <tr>\n",
       "      <th>0</th>\n",
       "      <td>2025-07-01</td>\n",
       "      <td>epy_1</td>\n",
       "      <td>32.483571</td>\n",
       "    </tr>\n",
       "    <tr>\n",
       "      <th>1</th>\n",
       "      <td>2025-07-02</td>\n",
       "      <td>epy_1</td>\n",
       "      <td>29.308678</td>\n",
       "    </tr>\n",
       "    <tr>\n",
       "      <th>2</th>\n",
       "      <td>2025-07-03</td>\n",
       "      <td>epy_1</td>\n",
       "      <td>33.238443</td>\n",
       "    </tr>\n",
       "    <tr>\n",
       "      <th>3</th>\n",
       "      <td>2025-07-04</td>\n",
       "      <td>epy_1</td>\n",
       "      <td>37.615149</td>\n",
       "    </tr>\n",
       "    <tr>\n",
       "      <th>4</th>\n",
       "      <td>2025-07-05</td>\n",
       "      <td>epy_1</td>\n",
       "      <td>28.829233</td>\n",
       "    </tr>\n",
       "    <tr>\n",
       "      <th>...</th>\n",
       "      <td>...</td>\n",
       "      <td>...</td>\n",
       "      <td>...</td>\n",
       "    </tr>\n",
       "    <tr>\n",
       "      <th>895</th>\n",
       "      <td>2025-07-26</td>\n",
       "      <td>epy_30</td>\n",
       "      <td>33.243549</td>\n",
       "    </tr>\n",
       "    <tr>\n",
       "      <th>896</th>\n",
       "      <td>2025-07-27</td>\n",
       "      <td>epy_30</td>\n",
       "      <td>29.164410</td>\n",
       "    </tr>\n",
       "    <tr>\n",
       "      <th>897</th>\n",
       "      <td>2025-07-28</td>\n",
       "      <td>epy_30</td>\n",
       "      <td>30.733568</td>\n",
       "    </tr>\n",
       "    <tr>\n",
       "      <th>898</th>\n",
       "      <td>2025-07-29</td>\n",
       "      <td>epy_30</td>\n",
       "      <td>36.032545</td>\n",
       "    </tr>\n",
       "    <tr>\n",
       "      <th>899</th>\n",
       "      <td>2025-07-30</td>\n",
       "      <td>epy_30</td>\n",
       "      <td>25.915322</td>\n",
       "    </tr>\n",
       "  </tbody>\n",
       "</table>\n",
       "<p>900 rows × 3 columns</p>\n",
       "</div>"
      ],
      "text/plain": [
       "           Date employee_id  working_hours\n",
       "0    2025-07-01       epy_1      32.483571\n",
       "1    2025-07-02       epy_1      29.308678\n",
       "2    2025-07-03       epy_1      33.238443\n",
       "3    2025-07-04       epy_1      37.615149\n",
       "4    2025-07-05       epy_1      28.829233\n",
       "..          ...         ...            ...\n",
       "895  2025-07-26      epy_30      33.243549\n",
       "896  2025-07-27      epy_30      29.164410\n",
       "897  2025-07-28      epy_30      30.733568\n",
       "898  2025-07-29      epy_30      36.032545\n",
       "899  2025-07-30      epy_30      25.915322\n",
       "\n",
       "[900 rows x 3 columns]"
      ]
     },
     "execution_count": 20,
     "metadata": {},
     "output_type": "execute_result"
    }
   ],
   "source": [
    "df_csv"
   ]
  },
  {
   "cell_type": "code",
   "execution_count": 22,
   "id": "a813b566-d1bd-4cef-8d28-2c777a1b1341",
   "metadata": {},
   "outputs": [
    {
     "name": "stdout",
     "output_type": "stream",
     "text": [
      "         Date employee_id  working_hours\n",
      "0  2025-07-01       epy_1      32.483571\n",
      "1  2025-07-02       epy_1      29.308678\n",
      "2  2025-07-03       epy_1      33.238443\n",
      "3  2025-07-04       epy_1      37.615149\n",
      "4  2025-07-05       epy_1      28.829233\n",
      "       working_hours\n",
      "count     900.000000\n",
      "mean       30.091926\n",
      "std         4.904530\n",
      "min        13.793663\n",
      "25%        26.745590\n",
      "50%        30.092131\n",
      "75%        33.246901\n",
      "max        49.263657\n",
      "30\n"
     ]
    }
   ],
   "source": [
    "print(df_csv.head())\n",
    "print(df_csv.describe())\n",
    "print(df_csv[\"employee_id\"].nunique())"
   ]
  },
  {
   "cell_type": "code",
   "execution_count": 23,
   "id": "cb75999a-3d21-445f-9c6b-a661bf501977",
   "metadata": {},
   "outputs": [
    {
     "name": "stdout",
     "output_type": "stream",
     "text": [
      "employee_id\n",
      "epy_30    962.606134\n",
      "epy_21    949.712002\n",
      "epy_11    942.282391\n",
      "epy_6     941.817993\n",
      "epy_13    934.225898\n",
      "epy_29    931.906799\n",
      "epy_26    928.785713\n",
      "epy_28    922.726849\n",
      "epy_10    916.074819\n",
      "epy_20    913.164300\n",
      "epy_7     909.838848\n",
      "epy_8     907.205434\n",
      "epy_16    906.985293\n",
      "epy_14    904.314773\n",
      "epy_27    903.784449\n",
      "epy_3     901.932716\n",
      "epy_4     896.962256\n",
      "epy_24    894.304245\n",
      "epy_15    891.394231\n",
      "epy_19    886.585246\n",
      "epy_5     885.756283\n",
      "epy_2     881.825629\n",
      "epy_23    880.485134\n",
      "epy_22    879.695120\n",
      "epy_9     878.485218\n",
      "epy_1     871.777966\n",
      "epy_17    870.315585\n",
      "epy_25    869.284734\n",
      "epy_12    869.016727\n",
      "epy_18    849.480581\n",
      "Name: working_hours, dtype: float64\n"
     ]
    }
   ],
   "source": [
    "total_hours = df_csv.groupby(\"employee_id\")[\"working_hours\"].sum().sort_values(ascending=False)\n",
    "print(total_hours)"
   ]
  },
  {
   "cell_type": "code",
   "execution_count": 24,
   "id": "b3c2f502-0846-462f-8881-610cb95cd570",
   "metadata": {},
   "outputs": [],
   "source": [
    "avg_daily = df_csv.groupby(\"employee_id\")[\"working_hours\"].mean()"
   ]
  },
  {
   "cell_type": "code",
   "execution_count": 25,
   "id": "2ca48075-3ff5-46ca-ba2f-3d650c1ad5cc",
   "metadata": {},
   "outputs": [
    {
     "name": "stdout",
     "output_type": "stream",
     "text": [
      "         Date employee_id  working_hours  low_hours_flag  high_hours_flag\n",
      "0  2025-07-01       epy_1      32.483571           False             True\n",
      "1  2025-07-02       epy_1      29.308678           False             True\n",
      "2  2025-07-03       epy_1      33.238443           False             True\n",
      "3  2025-07-04       epy_1      37.615149           False             True\n",
      "4  2025-07-05       epy_1      28.829233           False             True\n"
     ]
    }
   ],
   "source": [
    "threshold_low =5\n",
    "threshold_high = 9\n",
    "df_csv[\"low_hours_flag\"] = df_csv[\"working_hours\"] < threshold_low\n",
    "df_csv[\"high_hours_flag\"] = df_csv[\"working_hours\"] > threshold_high\n",
    "\n",
    "print(df_csv[df_csv[\"low_hours_flag\"] | df_csv[\"high_hours_flag\"]].head())"
   ]
  },
  {
   "cell_type": "code",
   "execution_count": 30,
   "id": "5ad98591-250b-471b-8555-1528c7b9f60b",
   "metadata": {},
   "outputs": [
    {
     "data": {
      "image/png": "[encoded data removed]",
      "text/plain": [
       "<Figure size 1000x500 with 1 Axes>"
      ]
     },
     "metadata": {},
     "output_type": "display_data"
    }
   ],
   "source": [
    "import matplotlib.pyplot as plt\n",
    "import seaborn as sns\n",
    "\n",
    "top10 = total_hours.head(10)\n",
    "plt.figure(figsize=(10,5))\n",
    "sns.barplot(x=top10.index, y=top10.values)\n",
    "plt.xticks(rotation=45)\n",
    "plt.title(\"Top 10 employees by total working hours\")\n",
    "plt.ylabel(\"Hours\")\n",
    "plt.tight_layout()\n",
    "plt.show()"
   ]
  },
  {
   "cell_type": "raw",
   "id": "54923a32-fae1-4ae4-87be-0dc234d4e6b1",
   "metadata": {},
   "source": []
  }
 ],
 "metadata": {
  "kernelspec": {
   "display_name": "Python 3 (ipykernel)",
   "language": "python",
   "name": "python3"
  },
  "language_info": {
   "codemirror_mode": {
    "name": "ipython",
    "version": 3
   },
   "file_extension": ".py",
   "mimetype": "text/x-python",
   "name": "python",
   "nbconvert_exporter": "python",
   "pygments_lexer": "ipython3",
   "version": "3.13.5"
  }
 },
 "nbformat": 4,
 "nbformat_minor": 5
}
